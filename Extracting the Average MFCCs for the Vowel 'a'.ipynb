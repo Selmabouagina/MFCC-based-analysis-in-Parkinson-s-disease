{
 "cells": [
  {
   "cell_type": "code",
   "execution_count": 4,
   "id": "89fb6d7b",
   "metadata": {},
   "outputs": [
    {
     "name": "stdout",
     "output_type": "stream",
     "text": [
      "Requirement already satisfied: librosa in c:\\users\\msi\\anaconda3\\lib\\site-packages (0.10.0)\n",
      "Requirement already satisfied: decorator>=4.3.0 in c:\\users\\msi\\anaconda3\\lib\\site-packages (from librosa) (5.1.1)\n",
      "Requirement already satisfied: lazy-loader>=0.1 in c:\\users\\msi\\anaconda3\\lib\\site-packages (from librosa) (0.1)\n",
      "Requirement already satisfied: numpy>=1.20.3 in c:\\users\\msi\\anaconda3\\lib\\site-packages (from librosa) (1.21.5)\n",
      "Requirement already satisfied: scipy>=1.2.0 in c:\\users\\msi\\anaconda3\\lib\\site-packages (from librosa) (1.9.1)\n",
      "Requirement already satisfied: soxr>=0.3.2 in c:\\users\\msi\\anaconda3\\lib\\site-packages (from librosa) (0.3.3)\n",
      "Requirement already satisfied: numba>=0.51.0 in c:\\users\\msi\\anaconda3\\lib\\site-packages (from librosa) (0.55.1)\n",
      "Requirement already satisfied: scikit-learn>=0.20.0 in c:\\users\\msi\\anaconda3\\lib\\site-packages (from librosa) (1.0.2)\n",
      "Requirement already satisfied: joblib>=0.14 in c:\\users\\msi\\anaconda3\\lib\\site-packages (from librosa) (1.1.0)\n",
      "Requirement already satisfied: pooch>=1.0 in c:\\users\\msi\\anaconda3\\lib\\site-packages (from librosa) (1.6.0)\n",
      "Requirement already satisfied: typing-extensions>=4.1.1 in c:\\users\\msi\\anaconda3\\lib\\site-packages (from librosa) (4.3.0)\n",
      "Requirement already satisfied: msgpack>=1.0 in c:\\users\\msi\\anaconda3\\lib\\site-packages (from librosa) (1.0.3)\n",
      "Requirement already satisfied: soundfile>=0.12.1 in c:\\users\\msi\\anaconda3\\lib\\site-packages (from librosa) (0.12.1)\n",
      "Requirement already satisfied: audioread>=2.1.9 in c:\\users\\msi\\anaconda3\\lib\\site-packages (from librosa) (3.0.0)\n",
      "Requirement already satisfied: llvmlite<0.39,>=0.38.0rc1 in c:\\users\\msi\\anaconda3\\lib\\site-packages (from numba>=0.51.0->librosa) (0.38.0)\n",
      "Requirement already satisfied: setuptools in c:\\users\\msi\\anaconda3\\lib\\site-packages (from numba>=0.51.0->librosa) (63.4.1)\n",
      "Requirement already satisfied: requests>=2.19.0 in c:\\users\\msi\\anaconda3\\lib\\site-packages (from pooch>=1.0->librosa) (2.28.1)\n",
      "Requirement already satisfied: appdirs>=1.3.0 in c:\\users\\msi\\anaconda3\\lib\\site-packages (from pooch>=1.0->librosa) (1.4.4)\n",
      "Requirement already satisfied: packaging>=20.0 in c:\\users\\msi\\anaconda3\\lib\\site-packages (from pooch>=1.0->librosa) (21.3)\n",
      "Requirement already satisfied: threadpoolctl>=2.0.0 in c:\\users\\msi\\anaconda3\\lib\\site-packages (from scikit-learn>=0.20.0->librosa) (2.2.0)\n",
      "Requirement already satisfied: cffi>=1.0 in c:\\users\\msi\\anaconda3\\lib\\site-packages (from soundfile>=0.12.1->librosa) (1.15.1)\n",
      "Requirement already satisfied: pycparser in c:\\users\\msi\\anaconda3\\lib\\site-packages (from cffi>=1.0->soundfile>=0.12.1->librosa) (2.21)\n",
      "Requirement already satisfied: pyparsing!=3.0.5,>=2.0.2 in c:\\users\\msi\\anaconda3\\lib\\site-packages (from packaging>=20.0->pooch>=1.0->librosa) (3.0.9)\n",
      "Requirement already satisfied: idna<4,>=2.5 in c:\\users\\msi\\anaconda3\\lib\\site-packages (from requests>=2.19.0->pooch>=1.0->librosa) (3.3)\n",
      "Requirement already satisfied: certifi>=2017.4.17 in c:\\users\\msi\\anaconda3\\lib\\site-packages (from requests>=2.19.0->pooch>=1.0->librosa) (2022.9.14)\n",
      "Requirement already satisfied: urllib3<1.27,>=1.21.1 in c:\\users\\msi\\anaconda3\\lib\\site-packages (from requests>=2.19.0->pooch>=1.0->librosa) (1.26.11)\n",
      "Requirement already satisfied: charset-normalizer<3,>=2 in c:\\users\\msi\\anaconda3\\lib\\site-packages (from requests>=2.19.0->pooch>=1.0->librosa) (2.0.4)\n",
      "Note: you may need to restart the kernel to use updated packages.\n"
     ]
    }
   ],
   "source": [
    "pip install librosa"
   ]
  },
  {
   "cell_type": "code",
   "execution_count": 5,
   "id": "a954e09c",
   "metadata": {},
   "outputs": [],
   "source": [
    "import numpy as np\n",
    "import pandas as pd\n",
    "import librosa\n",
    "import os\n",
    "\n",
    "# Définir le dossier contenant les fichiers audio\n",
    "folder_path = os.path.expanduser(\"~/Music/PFA II/db_8khz/A\")\n",
    "\n",
    "# Définir la liste des extensions de fichiers audio à traiter\n",
    "audio_ext = (\".wav\", \".mp3\", \".m4a\")\n",
    "\n",
    "# Définir la liste des caractéristiques à extraire\n",
    "feature_names = [\"mfcc{}\".format(i) for i in range(1, 14)]\n",
    "#Les accolades {} seront remplacées par la valeur de i,qui est insérée dans la chaîne à l'aide de la méthode .format().\n",
    "\n",
    "\n",
    "\n",
    "# Initialize the DataFrame to store the feature data\n",
    "data = pd.DataFrame(columns=[\"name\", \"status\"] + feature_names)\n",
    "\n",
    "# Boucle chaque fichier audio dans le dossier.\n",
    "for filename in os.listdir(folder_path):\n",
    "    if filename.endswith(audio_ext):\n",
    "        file_path = os.path.join(folder_path, filename)\n",
    "        name = os.path.splitext(filename)[0]\n",
    "        status = 1 if name.startswith(\"P\") else 0  # Les fichiers commençant par \"P\" sont considérés comme appartenant \n",
    "        #à des patients atteints de la maladie de Parkinson, et tous les autres fichiers sont considérés comme sains.\n",
    "        \n",
    "        # Extract MFCC features\n",
    "        signal, sr = librosa.load(file_path, sr=8000)\n",
    "        \n",
    "        mfccs = librosa.feature.mfcc(y=signal, sr=sr, n_mfcc=13, hop_length=int(len(signal)/2), window='hann', lifter=22, n_mels=22)\n",
    "        mfccs_mean = np.mean(mfccs.T, axis=0) #pour calculer la moyenne de chaque coefficient sur toutes les trames du signal audio.\n",
    "        \n",
    "        # Ajouter les données des caractéristiques au DataFrame\n",
    "        row = [name, status] + list(mfccs_mean)\n",
    "        data.loc[len(data)] = row\n",
    "\n",
    "# Save the DataFrame to a CSV file\n",
    "data.to_csv(\"audio_features_A.csv\", index=False)\n"
   ]
  },
  {
   "cell_type": "code",
   "execution_count": null,
   "id": "44dcffc5",
   "metadata": {},
   "outputs": [],
   "source": []
  },
  {
   "cell_type": "code",
   "execution_count": null,
   "id": "d3f3a59a",
   "metadata": {},
   "outputs": [],
   "source": []
  }
 ],
 "metadata": {
  "kernelspec": {
   "display_name": "Python 3 (ipykernel)",
   "language": "python",
   "name": "python3"
  },
  "language_info": {
   "codemirror_mode": {
    "name": "ipython",
    "version": 3
   },
   "file_extension": ".py",
   "mimetype": "text/x-python",
   "name": "python",
   "nbconvert_exporter": "python",
   "pygments_lexer": "ipython3",
   "version": "3.9.13"
  }
 },
 "nbformat": 4,
 "nbformat_minor": 5
}
